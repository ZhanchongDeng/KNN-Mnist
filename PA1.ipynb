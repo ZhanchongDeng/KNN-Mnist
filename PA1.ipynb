{
 "cells": [
  {
   "cell_type": "code",
   "execution_count": 73,
   "metadata": {},
   "outputs": [
    {
     "name": "stdout",
     "output_type": "stream",
     "text": [
      "The autoreload extension is already loaded. To reload it, use:\n",
      "  %reload_ext autoreload\n"
     ]
    }
   ],
   "source": [
    "%load_ext autoreload\n",
    "%autoreload 2"
   ]
  },
  {
   "cell_type": "code",
   "execution_count": 74,
   "metadata": {},
   "outputs": [],
   "source": [
    "import knn"
   ]
  },
  {
   "cell_type": "code",
   "execution_count": 75,
   "metadata": {},
   "outputs": [],
   "source": [
    "import os\n",
    "import pandas as pd\n",
    "import numpy as np"
   ]
  },
  {
   "cell_type": "code",
   "execution_count": 76,
   "metadata": {},
   "outputs": [],
   "source": [
    "train_file = open('pa1train.txt', 'r')"
   ]
  },
  {
   "cell_type": "code",
   "execution_count": 77,
   "metadata": {},
   "outputs": [],
   "source": [
    "train_file.seek(0)\n",
    "raw_strings = train_file.read().split(\"\\n\")[:-1]"
   ]
  },
  {
   "cell_type": "code",
   "execution_count": 78,
   "metadata": {},
   "outputs": [],
   "source": [
    "labels = [int(entry[-1:]) for entry in raw_strings]"
   ]
  },
  {
   "cell_type": "code",
   "execution_count": 79,
   "metadata": {},
   "outputs": [],
   "source": [
    "train_raw = [entry[0:-1] for entry in raw_strings]"
   ]
  },
  {
   "cell_type": "code",
   "execution_count": 83,
   "metadata": {},
   "outputs": [],
   "source": [
    "sample_image = np.array(train_raw[0].split(\" \")[:-1], dtype=\"int\").reshape(28,28)"
   ]
  },
  {
   "cell_type": "code",
   "execution_count": 85,
   "metadata": {},
   "outputs": [
    {
     "name": "stdout",
     "output_type": "stream",
     "text": [
      "1111111111111111111111111111\n",
      "1111111111111111111111111111\n",
      "1111111111111111111111111111\n",
      "1111111111111111111111111111\n",
      "1111111111111111111111111111\n",
      "1111111111111111111111111111\n",
      "1111111100000000000011111111\n",
      "1111110000000000000000111111\n",
      "1111110000000000000000001111\n",
      "1111110000000000000000001111\n",
      "1111110000000111110000000111\n",
      "1111110000001111111100000111\n",
      "1111100000001111111111000111\n",
      "1111100000001111111111000111\n",
      "1111100000101111111111000111\n",
      "1111100011111111111110001111\n",
      "1111100001111111111100001111\n",
      "1111100000111111111100001111\n",
      "1111100000000111110000001111\n",
      "1111110000000011110000011111\n",
      "1111111100000000000000011111\n",
      "1111111100000000000000011111\n",
      "1111111111000000000001111111\n",
      "1111111111110000000011111111\n",
      "1111111111111111111111111111\n",
      "1111111111111111111111111111\n",
      "1111111111111111111111111111\n",
      "1111111111111111111111111111\n"
     ]
    }
   ],
   "source": [
    "for i in sample_image:\n",
    "    for j in i:\n",
    "        if (j == 0):\n",
    "            print(1, end=\"\")\n",
    "        else:\n",
    "            print(0, end=\"\")\n",
    "    print()\n",
    "    "
   ]
  },
  {
   "cell_type": "code",
   "execution_count": null,
   "metadata": {},
   "outputs": [],
   "source": []
  }
 ],
 "metadata": {
  "kernelspec": {
   "display_name": "Python 3",
   "language": "python",
   "name": "python3"
  },
  "language_info": {
   "codemirror_mode": {
    "name": "ipython",
    "version": 3
   },
   "file_extension": ".py",
   "mimetype": "text/x-python",
   "name": "python",
   "nbconvert_exporter": "python",
   "pygments_lexer": "ipython3",
   "version": "3.6.7"
  }
 },
 "nbformat": 4,
 "nbformat_minor": 2
}
