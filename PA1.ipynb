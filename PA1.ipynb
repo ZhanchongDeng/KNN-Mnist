{
 "cells": [
  {
   "cell_type": "markdown",
   "metadata": {},
   "source": [
    "### Part1\n",
    "Develop KNN and calculate train/validate/test error for k = 1, 5, 9, 15"
   ]
  },
  {
   "cell_type": "code",
   "execution_count": 1,
   "metadata": {},
   "outputs": [],
   "source": [
    "%load_ext autoreload\n",
    "%autoreload 2"
   ]
  },
  {
   "cell_type": "code",
   "execution_count": 2,
   "metadata": {},
   "outputs": [],
   "source": [
    "import knn as knn"
   ]
  },
  {
   "cell_type": "code",
   "execution_count": 3,
   "metadata": {},
   "outputs": [],
   "source": [
    "import os\n",
    "import pandas as pd\n",
    "import numpy as np\n",
    "from scipy import stats\n",
    "import time\n",
    "import random"
   ]
  },
  {
   "cell_type": "code",
   "execution_count": 4,
   "metadata": {},
   "outputs": [],
   "source": [
    "model = knn.KNN()\n",
    "model.loadData('pa1train.txt')\n",
    "validation = knn.KNN()\n",
    "validation.loadData('pa1validate.txt')\n",
    "test = knn.KNN()\n",
    "test.loadData('pa1test.txt')"
   ]
  },
  {
   "cell_type": "code",
   "execution_count": 5,
   "metadata": {},
   "outputs": [
    {
     "data": {
      "text/plain": [
       "63.451443910598755"
      ]
     },
     "execution_count": 5,
     "metadata": {},
     "output_type": "execute_result"
    }
   ],
   "source": [
    "delta = time.time()\n",
    "train_error_3 = model.error_rate(3, model.model, model.labels)\n",
    "time.time() - delta"
   ]
  },
  {
   "cell_type": "code",
   "execution_count": 6,
   "metadata": {},
   "outputs": [
    {
     "data": {
      "text/plain": [
       "0.043"
      ]
     },
     "execution_count": 6,
     "metadata": {},
     "output_type": "execute_result"
    }
   ],
   "source": [
    "# Should expect 0.04\n",
    "train_error_3"
   ]
  },
  {
   "cell_type": "code",
   "execution_count": 7,
   "metadata": {},
   "outputs": [
    {
     "name": "stdout",
     "output_type": "stream",
     "text": [
      "Train Error for  1 th neighbor: \n",
      "- Train error is:  0.0\n",
      "- Took(s):  61.77072501182556\n",
      "\n",
      "Train Error for  5 th neighbor: \n",
      "- Train error is:  0.055\n",
      "- Took(s):  62.13265657424927\n",
      "\n",
      "Train Error for  9 th neighbor: \n",
      "- Train error is:  0.0685\n",
      "- Took(s):  62.677778005599976\n",
      "\n",
      "Train Error for  15 th neighbor: \n",
      "- Train error is:  0.0915\n",
      "- Took(s):  62.99339699745178\n",
      "\n"
     ]
    }
   ],
   "source": [
    "for i in [1,5,9,15]:\n",
    "    print(\"Train Error for \", i, \"th neighbor: \")\n",
    "    current = time.time()\n",
    "    train_error = model.error_rate(i, model.model, model.labels)\n",
    "    print(\"- Train error is: \", train_error)\n",
    "    print(\"- Took(s): \", time.time() - current)\n",
    "    print()"
   ]
  },
  {
   "cell_type": "code",
   "execution_count": 8,
   "metadata": {},
   "outputs": [
    {
     "name": "stdout",
     "output_type": "stream",
     "text": [
      "Validation Error for  1 th neighbor: \n",
      "- Validation error is:  0.082\n",
      "- Took(s):  31.085265398025513\n",
      "\n",
      "Validation Error for  5 th neighbor: \n",
      "- Validation error is:  0.095\n",
      "- Took(s):  31.093000888824463\n",
      "\n",
      "Validation Error for  9 th neighbor: \n",
      "- Validation error is:  0.106\n",
      "- Took(s):  31.20689821243286\n",
      "\n",
      "Validation Error for  15 th neighbor: \n",
      "- Validation error is:  0.106\n",
      "- Took(s):  31.310529708862305\n",
      "\n"
     ]
    }
   ],
   "source": [
    "for i in [1,5,9,15]:\n",
    "    print(\"Validation Error for \", i, \"th neighbor: \")\n",
    "    current = time.time()\n",
    "    validation_error = model.error_rate(i, validation.model, validation.labels)\n",
    "    print(\"- Validation error is: \", validation_error)\n",
    "    print(\"- Took(s): \", time.time() - current)\n",
    "    print()"
   ]
  },
  {
   "cell_type": "code",
   "execution_count": 9,
   "metadata": {},
   "outputs": [
    {
     "name": "stdout",
     "output_type": "stream",
     "text": [
      "Test Error for  1 th neighbor: \n",
      "- Test error is:  0.094\n",
      "- Took(s):  31.105512619018555\n",
      "\n",
      "Test Error for  5 th neighbor: \n",
      "- Test error is:  0.101\n",
      "- Took(s):  31.564154386520386\n",
      "\n",
      "Test Error for  9 th neighbor: \n",
      "- Test error is:  0.098\n",
      "- Took(s):  31.712072372436523\n",
      "\n",
      "Test Error for  15 th neighbor: \n",
      "- Test error is:  0.116\n",
      "- Took(s):  32.701887369155884\n",
      "\n"
     ]
    }
   ],
   "source": [
    "for i in [1,5,9,15]:\n",
    "    print(\"Test Error for \", i, \"th neighbor: \")\n",
    "    current = time.time()\n",
    "    test_error = model.error_rate(i, test.model, test.labels)\n",
    "    print(\"- Test error is: \", test_error)\n",
    "    print(\"- Took(s): \", time.time() - current)\n",
    "    print()"
   ]
  },
  {
   "cell_type": "markdown",
   "metadata": {},
   "source": [
    "### Part 2\n",
    "Use projection.txt to speed up knn."
   ]
  },
  {
   "cell_type": "code",
   "execution_count": 10,
   "metadata": {},
   "outputs": [
    {
     "data": {
      "text/plain": [
       "(784, 20)"
      ]
     },
     "execution_count": 10,
     "metadata": {},
     "output_type": "execute_result"
    }
   ],
   "source": [
    "projection = knn.read_projection('projection.txt')\n",
    "projection.shape"
   ]
  },
  {
   "cell_type": "code",
   "execution_count": 11,
   "metadata": {
    "scrolled": false
   },
   "outputs": [],
   "source": [
    "model.project_data(projection)\n",
    "validation.project_data(projection)\n",
    "test.project_data(projection)"
   ]
  },
  {
   "cell_type": "code",
   "execution_count": 12,
   "metadata": {},
   "outputs": [
    {
     "name": "stdout",
     "output_type": "stream",
     "text": [
      "(2000, 20)\n",
      "(1000, 20)\n",
      "(1000, 20)\n"
     ]
    }
   ],
   "source": [
    "print(model.model.shape)\n",
    "print(validation.model.shape)\n",
    "print(test.model.shape)"
   ]
  },
  {
   "cell_type": "code",
   "execution_count": 13,
   "metadata": {},
   "outputs": [
    {
     "data": {
      "text/plain": [
       "0.1605"
      ]
     },
     "execution_count": 13,
     "metadata": {},
     "output_type": "execute_result"
    }
   ],
   "source": [
    "start_time = time.time()\n",
    "prediction = np.array([model.predict(entry, 3) for entry in model.model])\n",
    "time.time() - start_time\n",
    "train_error_3_p = np.mean(prediction != model.labels)\n",
    "train_error_3_p"
   ]
  },
  {
   "cell_type": "code",
   "execution_count": 14,
   "metadata": {},
   "outputs": [
    {
     "name": "stdout",
     "output_type": "stream",
     "text": [
      "Train Error for  1 th neighbor with projection is: \n",
      "- Train error is:  0.0\n",
      "- Took(s):  55.908429861068726\n",
      "\n",
      "Train Error for  5 th neighbor with projection is: \n",
      "- Train error is:  0.196\n",
      "- Took(s):  55.993544816970825\n",
      "\n",
      "Train Error for  9 th neighbor with projection is: \n",
      "- Train error is:  0.2285\n",
      "- Took(s):  56.32619023323059\n",
      "\n",
      "Train Error for  15 th neighbor with projection is: \n",
      "- Train error is:  0.2565\n",
      "- Took(s):  57.01262879371643\n",
      "\n"
     ]
    }
   ],
   "source": [
    "for i in [1,5,9,15]:\n",
    "    print(\"Train Error for \", i, \"th neighbor with projection is: \")\n",
    "    current = time.time()\n",
    "    train_error_p = np.mean(np.array([model.predict(entry, i) for entry in model.model]) != model.labels)\n",
    "    print(\"- Train error is: \", train_error_p)\n",
    "    print(\"- Took(s): \", time.time() - current)\n",
    "    print()"
   ]
  },
  {
   "cell_type": "code",
   "execution_count": 17,
   "metadata": {},
   "outputs": [
    {
     "name": "stdout",
     "output_type": "stream",
     "text": [
      "Validation Error for 1 th neighbor with projection is: \n",
      "- Validation error is:  0.32\n",
      "- Took(s):  27.607255220413208\n",
      "\n",
      "Validation Error for 5 th neighbor with projection is: \n",
      "- Validation error is:  0.298\n",
      "- Took(s):  27.910612106323242\n",
      "\n",
      "Validation Error for 9 th neighbor with projection is: \n",
      "- Validation error is:  0.29\n",
      "- Took(s):  28.234302759170532\n",
      "\n",
      "Validation Error for 15 th neighbor with projection is: \n",
      "- Validation error is:  0.287\n",
      "- Took(s):  28.48821210861206\n",
      "\n"
     ]
    }
   ],
   "source": [
    "for i in [1,5,9,15]:\n",
    "    print(\"Validation Error for\", i, \"th neighbor with projection is: \")\n",
    "    current = time.time()\n",
    "    validation_error_p = np.mean(np.array([model.predict(entry, i) for entry in validation.model]) != validation.labels)\n",
    "    print(\"- Validation error is: \", validation_error_p)\n",
    "    print(\"- Took(s): \", time.time() - current)\n",
    "    print()"
   ]
  },
  {
   "cell_type": "code",
   "execution_count": 16,
   "metadata": {},
   "outputs": [
    {
     "name": "stdout",
     "output_type": "stream",
     "text": [
      "Test error for 1 th neighbor with projection is: \n",
      "- Error:  0.314\n",
      "- Took(s):  27.515037298202515\n",
      "\n",
      "Test error for 5 th neighbor with projection is: \n",
      "- Error:  0.293\n",
      "- Took(s):  28.06019949913025\n",
      "\n",
      "Test error for 9 th neighbor with projection is: \n",
      "- Error:  0.287\n",
      "- Took(s):  28.24974775314331\n",
      "\n",
      "Test error for 15 th neighbor with projection is: \n",
      "- Error:  0.306\n",
      "- Took(s):  28.744004726409912\n",
      "\n"
     ]
    }
   ],
   "source": [
    "for i in [1,5,9,15]:\n",
    "    print(\"Test error for\", i, \"th neighbor with projection is: \")\n",
    "    current = time.time()\n",
    "    test_error_p = np.mean(np.array([model.predict(entry, i) for entry in test.model]) != test.labels)\n",
    "    print(\"- Error: \", test_error_p)\n",
    "    print(\"- Took(s): \", time.time() - current)\n",
    "    print()"
   ]
  }
 ],
 "metadata": {
  "kernelspec": {
   "display_name": "Python 3",
   "language": "python",
   "name": "python3"
  },
  "language_info": {
   "codemirror_mode": {
    "name": "ipython",
    "version": 3
   },
   "file_extension": ".py",
   "mimetype": "text/x-python",
   "name": "python",
   "nbconvert_exporter": "python",
   "pygments_lexer": "ipython3",
   "version": "3.6.7"
  }
 },
 "nbformat": 4,
 "nbformat_minor": 2
}
